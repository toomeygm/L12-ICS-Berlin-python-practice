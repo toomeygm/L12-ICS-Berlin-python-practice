{
  "nbformat": 4,
  "nbformat_minor": 0,
  "metadata": {
    "colab": {
      "provenance": [],
      "authorship_tag": "ABX9TyNHwsULs0GzKT2kmraAxoDK",
      "include_colab_link": true
    },
    "kernelspec": {
      "name": "python3",
      "display_name": "Python 3"
    },
    "language_info": {
      "name": "python"
    }
  },
  "cells": [
    {
      "cell_type": "markdown",
      "metadata": {
        "id": "view-in-github",
        "colab_type": "text"
      },
      "source": [
        "<a href=\"https://colab.research.google.com/github/toomeygm/L12-ICS-Berlin-python-practice/blob/main/Web_scraping_BeatifulSoup_LeWagonWorkshop.ipynb\" target=\"_parent\"><img src=\"https://colab.research.google.com/assets/colab-badge.svg\" alt=\"Open In Colab\"/></a>"
      ]
    },
    {
      "cell_type": "code",
      "execution_count": 2,
      "metadata": {
        "id": "xbgPMEqJneKO"
      },
      "outputs": [],
      "source": [
        "import requests\n",
        "from bs4 import BeautifulSoup"
      ]
    },
    {
      "cell_type": "code",
      "source": [
        "URL = \"https://books.toscrape.com/\" #free resource for practicing web scraping\n",
        "response = requests.get(URL)\n",
        "html = response.content\n",
        "scraped = BeautifulSoup(html,'html.parser')\n"
      ],
      "metadata": {
        "id": "XuyBQQ0mn-kg"
      },
      "execution_count": 8,
      "outputs": []
    },
    {
      "cell_type": "code",
      "source": [
        "title_text = scraped.title.text.strip()"
      ],
      "metadata": {
        "id": "avHCXzeyvriN"
      },
      "execution_count": 12,
      "outputs": []
    },
    {
      "cell_type": "code",
      "source": [
        "scraped.h1"
      ],
      "metadata": {
        "colab": {
          "base_uri": "https://localhost:8080/"
        },
        "id": "kqZWZtbrxdY-",
        "outputId": "c5229c40-b575-4fea-b6cc-5c7e1986af7f"
      },
      "execution_count": 13,
      "outputs": [
        {
          "output_type": "execute_result",
          "data": {
            "text/plain": [
              "<h1>All products</h1>"
            ]
          },
          "metadata": {},
          "execution_count": 13
        }
      ]
    },
    {
      "cell_type": "code",
      "source": [
        "print(title_text)"
      ],
      "metadata": {
        "colab": {
          "base_uri": "https://localhost:8080/"
        },
        "id": "ZNZ5pnw1x-r0",
        "outputId": "91b570f9-1eff-4338-cad7-d2504265288a"
      },
      "execution_count": 14,
      "outputs": [
        {
          "output_type": "stream",
          "name": "stdout",
          "text": [
            "All products | Books to Scrape - Sandbox\n"
          ]
        }
      ]
    },
    {
      "cell_type": "markdown",
      "source": [
        "Print the full title of the first book on a page (locate single element)"
      ],
      "metadata": {
        "id": "JzDF_rlNz9gz"
      }
    },
    {
      "cell_type": "code",
      "source": [
        "title = scraped.article.h3.a[\"title\"]\n",
        "print(title)"
      ],
      "metadata": {
        "colab": {
          "base_uri": "https://localhost:8080/"
        },
        "id": "jfsh2qApzUc1",
        "outputId": "11c98101-ab27-43ea-fa1b-02123190bad2"
      },
      "execution_count": 15,
      "outputs": [
        {
          "output_type": "stream",
          "name": "stdout",
          "text": [
            "A Light in the Attic\n"
          ]
        }
      ]
    },
    {
      "cell_type": "markdown",
      "source": [
        "Print all the full titles from the page (to return a collection of elements) - hint: use for loop"
      ],
      "metadata": {
        "id": "4QpSDPIS0Qvh"
      }
    },
    {
      "cell_type": "code",
      "source": [
        "links = scraped.find_all(\"a\", title = True) #find_all always returns a collection\n",
        "for link in links:\n",
        "  print(link['title'])"
      ],
      "metadata": {
        "colab": {
          "base_uri": "https://localhost:8080/"
        },
        "id": "rnWrmRB1zpnY",
        "outputId": "753ad81e-8f7b-441b-af0b-e8cdb0226655"
      },
      "execution_count": 16,
      "outputs": [
        {
          "output_type": "stream",
          "name": "stdout",
          "text": [
            "A Light in the Attic\n",
            "Tipping the Velvet\n",
            "Soumission\n",
            "Sharp Objects\n",
            "Sapiens: A Brief History of Humankind\n",
            "The Requiem Red\n",
            "The Dirty Little Secrets of Getting Your Dream Job\n",
            "The Coming Woman: A Novel Based on the Life of the Infamous Feminist, Victoria Woodhull\n",
            "The Boys in the Boat: Nine Americans and Their Epic Quest for Gold at the 1936 Berlin Olympics\n",
            "The Black Maria\n",
            "Starving Hearts (Triangular Trade Trilogy, #1)\n",
            "Shakespeare's Sonnets\n",
            "Set Me Free\n",
            "Scott Pilgrim's Precious Little Life (Scott Pilgrim #1)\n",
            "Rip it Up and Start Again\n",
            "Our Band Could Be Your Life: Scenes from the American Indie Underground, 1981-1991\n",
            "Olio\n",
            "Mesaerion: The Best Science Fiction Stories 1800-1849\n",
            "Libertarianism for Beginners\n",
            "It's Only the Himalayas\n"
          ]
        }
      ]
    },
    {
      "cell_type": "code",
      "source": [
        "#Use attribute to narrow down selection\n",
        "items = scraped.find_all('article', class_ = 'product_pod')\n",
        "#find_all always returns a collection\n",
        "for item in items:\n",
        "  print(item.h3.a['title'])\n"
      ],
      "metadata": {
        "colab": {
          "base_uri": "https://localhost:8080/"
        },
        "id": "ysXzyW2o2Uok",
        "outputId": "110e5ccb-93a7-4fb1-d5ce-722307b488af"
      },
      "execution_count": 21,
      "outputs": [
        {
          "output_type": "stream",
          "name": "stdout",
          "text": [
            "A Light in the Attic\n",
            "Tipping the Velvet\n",
            "Soumission\n",
            "Sharp Objects\n",
            "Sapiens: A Brief History of Humankind\n",
            "The Requiem Red\n",
            "The Dirty Little Secrets of Getting Your Dream Job\n",
            "The Coming Woman: A Novel Based on the Life of the Infamous Feminist, Victoria Woodhull\n",
            "The Boys in the Boat: Nine Americans and Their Epic Quest for Gold at the 1936 Berlin Olympics\n",
            "The Black Maria\n",
            "Starving Hearts (Triangular Trade Trilogy, #1)\n",
            "Shakespeare's Sonnets\n",
            "Set Me Free\n",
            "Scott Pilgrim's Precious Little Life (Scott Pilgrim #1)\n",
            "Rip it Up and Start Again\n",
            "Our Band Could Be Your Life: Scenes from the American Indie Underground, 1981-1991\n",
            "Olio\n",
            "Mesaerion: The Best Science Fiction Stories 1800-1849\n",
            "Libertarianism for Beginners\n",
            "It's Only the Himalayas\n"
          ]
        }
      ]
    },
    {
      "cell_type": "code",
      "source": [
        "#Print all the prices from the page\n",
        "#lstrip gets rid of value on left (l)\n",
        "prices = scraped.select(\".price_color\")\n",
        "for price in prices:\n",
        "    price = float(price.text.lstrip(\"£\"))\n",
        "    print(price)"
      ],
      "metadata": {
        "colab": {
          "base_uri": "https://localhost:8080/"
        },
        "id": "Yto89kFP01mk",
        "outputId": "950f8681-1d23-4db3-a5c7-a22a06fcf1b1"
      },
      "execution_count": 22,
      "outputs": [
        {
          "output_type": "stream",
          "name": "stdout",
          "text": [
            "51.77\n",
            "53.74\n",
            "50.1\n",
            "47.82\n",
            "54.23\n",
            "22.65\n",
            "33.34\n",
            "17.93\n",
            "22.6\n",
            "52.15\n",
            "13.99\n",
            "20.66\n",
            "17.46\n",
            "52.29\n",
            "35.02\n",
            "57.25\n",
            "23.88\n",
            "37.59\n",
            "51.33\n",
            "45.17\n"
          ]
        }
      ]
    },
    {
      "cell_type": "markdown",
      "source": [
        "Get a corresponding price for titles by appending dict into list(this is hard!)"
      ],
      "metadata": {
        "id": "jHEPfdKK48PN"
      }
    },
    {
      "cell_type": "code",
      "source": [
        "title_prices = []\n",
        "\n",
        "articles = scraped.select(\".product_pod\")\n",
        "\n",
        "\n",
        "for article in articles:\n",
        "    title = article.h3.a[\"title\"]\n",
        "    price = article.find(\"p\", class_=\"price_color\")\n",
        "    price_float = float(price.text.lstrip(\"£\"))\n",
        "    title_prices.append({title: price_float}) # Create a Dictionary and append to Array\n",
        "\n",
        "\n",
        "print(title_prices)"
      ],
      "metadata": {
        "colab": {
          "base_uri": "https://localhost:8080/"
        },
        "id": "I6mEVjIi5GcP",
        "outputId": "f964fe59-b7e2-4cff-873c-b4b6e6ddfe48"
      },
      "execution_count": 23,
      "outputs": [
        {
          "output_type": "stream",
          "name": "stdout",
          "text": [
            "[{'A Light in the Attic': 51.77}, {'Tipping the Velvet': 53.74}, {'Soumission': 50.1}, {'Sharp Objects': 47.82}, {'Sapiens: A Brief History of Humankind': 54.23}, {'The Requiem Red': 22.65}, {'The Dirty Little Secrets of Getting Your Dream Job': 33.34}, {'The Coming Woman: A Novel Based on the Life of the Infamous Feminist, Victoria Woodhull': 17.93}, {'The Boys in the Boat: Nine Americans and Their Epic Quest for Gold at the 1936 Berlin Olympics': 22.6}, {'The Black Maria': 52.15}, {'Starving Hearts (Triangular Trade Trilogy, #1)': 13.99}, {\"Shakespeare's Sonnets\": 20.66}, {'Set Me Free': 17.46}, {\"Scott Pilgrim's Precious Little Life (Scott Pilgrim #1)\": 52.29}, {'Rip it Up and Start Again': 35.02}, {'Our Band Could Be Your Life: Scenes from the American Indie Underground, 1981-1991': 57.25}, {'Olio': 23.88}, {'Mesaerion: The Best Science Fiction Stories 1800-1849': 37.59}, {'Libertarianism for Beginners': 51.33}, {\"It's Only the Himalayas\": 45.17}]\n"
          ]
        }
      ]
    }
  ]
}