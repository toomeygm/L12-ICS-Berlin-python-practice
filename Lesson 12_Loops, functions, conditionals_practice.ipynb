{
 "cells": [
  {
   "cell_type": "markdown",
   "metadata": {},
   "source": [
    "1. Warm-up: write a function called add_10 that takes in an integer, adds 10, and returns this value."
   ]
  },
  {
   "cell_type": "code",
   "execution_count": 15,
   "metadata": {},
   "outputs": [
    {
     "data": {
      "text/plain": [
       "17"
      ]
     },
     "execution_count": 15,
     "metadata": {},
     "output_type": "execute_result"
    }
   ],
   "source": [
    "def add_10(someNum):\n",
    "    return someNum + 10\n",
    "    #print(someNum + 10)\n",
    "\n",
    "add_10(7)\n",
    "  "
   ]
  },
  {
   "cell_type": "markdown",
   "metadata": {},
   "source": [
    "2. Write a function called longer_string that takes in two strings and returns the longer one. If they are the same length, return the first string."
   ]
  },
  {
   "cell_type": "code",
   "execution_count": 16,
   "metadata": {},
   "outputs": [
    {
     "data": {
      "text/plain": [
       "'bird'"
      ]
     },
     "execution_count": 16,
     "metadata": {},
     "output_type": "execute_result"
    }
   ],
   "source": [
    "\n",
    "def longer_string(string1, string2):\n",
    "    if len(string1) >= len(string2):\n",
    "        return string1\n",
    "    else:\n",
    "        return string2\n",
    "    \n",
    "    #from 1st attempt before shortening code:\n",
    "    # #if len(string2) > len(string1):\n",
    "    # #elif len(string1) == len(string2):\n",
    "        #print(string1)\n",
    "\n",
    "string1 = \"bird\"\n",
    "string2 = \"cat\"  \n",
    "\n",
    "longer_string(string1, string2)"
   ]
  },
  {
   "cell_type": "markdown",
   "metadata": {},
   "source": [
    "3. Write a function called is_odd that takes in an integer and returns True if the number is odd and False otherwise. Hint: Google what the modulo (%) operator in Python is and use it to determine if a number is odd or even."
   ]
  },
  {
   "cell_type": "code",
   "execution_count": 114,
   "metadata": {},
   "outputs": [
    {
     "data": {
      "text/plain": [
       "True"
      ]
     },
     "execution_count": 114,
     "metadata": {},
     "output_type": "execute_result"
    }
   ],
   "source": [
    "def is_odd(some_integer):\n",
    "    if some_integer % 2 == 0:\n",
    "        return False\n",
    "    else:\n",
    "        return True\n",
    "\n",
    "some_integer = 7        \n",
    "\n",
    "is_odd(7)"
   ]
  },
  {
   "cell_type": "markdown",
   "metadata": {},
   "source": [
    "4. Write a function that takes in a list of integers, a min_val, and a max_val and prints the value of each element that is between min_val and max_val.\n",
    "For example: [3, 0, 10, 4, 5, 3], min_val = 2, max_val = 5; expected output:\n",
    "3\n",
    "4\n",
    "3\n"
   ]
  },
  {
   "cell_type": "code",
   "execution_count": 18,
   "metadata": {},
   "outputs": [
    {
     "name": "stdout",
     "output_type": "stream",
     "text": [
      "9\n",
      "7\n",
      "4\n",
      "5\n",
      "11\n",
      "8\n"
     ]
    }
   ],
   "source": [
    "def between_value(int_list, min_val, max_val):\n",
    "    for i in int_list:\n",
    "        if i > min_val and i < max_val:\n",
    "            print(i)\n",
    "                \n",
    "    \n",
    "int_list = [9,7,20,4,5,2,11,8,13]\n",
    "min_val = 2\n",
    "max_val = 12\n",
    "\n",
    "between_value(int_list, min_val, max_val)"
   ]
  },
  {
   "cell_type": "markdown",
   "metadata": {},
   "source": [
    "5. Write a function find_max_int that takes in a list of integers and returns the largest value in the list. Do not use the `max` function in your solution :) If the empty list ([]) is passed in, return None. (Note: `None` is a keyword in Python)"
   ]
  },
  {
   "cell_type": "code",
   "execution_count": 116,
   "metadata": {},
   "outputs": [
    {
     "name": "stdout",
     "output_type": "stream",
     "text": [
      "86\n"
     ]
    }
   ],
   "source": [
    "def find_max_int(num_list):\n",
    "    #num_list = [17, 89, 45, 3, 5] need to define this outside of function!\n",
    "    num_list.sort()\n",
    "    if num_list == []:\n",
    "        return None\n",
    "    else:\n",
    "        return num_list[-1]\n",
    "\n",
    "def find_min_int(num_list):\n",
    "    #num_list = [17, 89, 45, 3, 5] need to define this outside of function!\n",
    "    num_list.sort()\n",
    "    if num_list == []:\n",
    "        return None\n",
    "    else:\n",
    "        return num_list[0]\n",
    "\n",
    "\n",
    "wingSpan1 = [17, 89, 45, 3, 5]\n",
    "windSpan2 = [33, 29, 5, 2, 19]\n",
    "u = []\n",
    "#print(find_max_int(n))\n",
    "#print(find_max_int(y))\n",
    "#print(find_max_int(u))\n",
    "print(find_max_int(wingSpan1) - find_min_int(wingSpan1))\n",
    "  \n"
   ]
  },
  {
   "cell_type": "markdown",
   "metadata": {},
   "source": [
    "6. Similar to the above, write a function called find_longest_str that takes in a list of strings and returns the longest string in the list. If the empty list ([]) is passed in, return None.\n",
    "For example: ['a', 'asdf', ''] -> 'asdf'"
   ]
  },
  {
   "cell_type": "code",
   "execution_count": 117,
   "metadata": {},
   "outputs": [
    {
     "data": {
      "text/plain": [
       "'beanpole'"
      ]
     },
     "execution_count": 117,
     "metadata": {},
     "output_type": "execute_result"
    }
   ],
   "source": [
    "def find_longest_str(example_list):\n",
    "    if example_list == []:\n",
    "        return None\n",
    "    else:\n",
    "        return max(example_list, key = len)\n",
    "        \n",
    "\n",
    "g_list =[\"adf\", \"twit\", \"icequeen\"]\n",
    "b_list =[\"winkle\", \"beanpole\", \"slip\"]\n",
    "find_longest_str(g_list)\n",
    "find_longest_str(b_list)"
   ]
  },
  {
   "cell_type": "code",
   "execution_count": 118,
   "metadata": {},
   "outputs": [
    {
     "data": {
      "text/plain": [
       "('beanpole', 8)"
      ]
     },
     "execution_count": 118,
     "metadata": {},
     "output_type": "execute_result"
    }
   ],
   "source": [
    "#function using for loop\n",
    " \n",
    "def find_longest_str(g_list):\n",
    "    max_len = -1\n",
    "    result = \"lString\"\n",
    "    for x in g_list:\n",
    "        if len(x) > max_len:\n",
    "            max_len = len(x)\n",
    "            result = x\n",
    "    return result, max_len #to return longest string and also its integer length\n",
    "\n",
    "b_list =[\"winkle\", \"beanpole\", \"slip\"]\n",
    "find_longest_str(b_list)\n",
    "    "
   ]
  },
  {
   "cell_type": "code",
   "execution_count": 119,
   "metadata": {},
   "outputs": [
    {
     "name": "stdout",
     "output_type": "stream",
     "text": [
      "The original list:['adf', 'twit', 'icequeen', 'tuple', 'giantfrogs']\n",
      "Max length str: giantfrogs\n"
     ]
    }
   ],
   "source": [
    "g_list = [\"adf\", \"twit\", \"icequeen\", \"tuple\", \"giantfrogs\"]\n",
    "\n",
    "print(\"The original list:\" + str(g_list))\n",
    "\n",
    "# Longest String in list\n",
    "# using loop\n",
    "\n",
    "max_len = -1\n",
    "for x in g_list:\n",
    "    if len(x) > max_len:\n",
    "        max_len = len(x)\n",
    "        result = x\n",
    "\n",
    "#print result\n",
    "\n",
    "print(\"Max length str: \" + result)\n",
    "    #for i in garble_list:\n",
    "        #if len(i) > max_len: #check for longest string in list\n",
    "            #max_len = len(i)\n",
    "            #print(\"Longest string in garble_list is:\", i)\n",
    "\n",
    "    #garble_list =[] don't set to this as it will always be none\n",
    "\n",
    "    #if garble_list == []:\n",
    "        #print(None)\n",
    "\n",
    "\n"
   ]
  },
  {
   "cell_type": "markdown",
   "metadata": {},
   "source": [
    "7. Write a function that takes in an integer and prints all positive numbers below it that are divisible by 3.\n",
    "For example: with input 12, we should get output:\n",
    "3\n",
    "6\n",
    "9\n"
   ]
  },
  {
   "cell_type": "code",
   "execution_count": 4,
   "metadata": {},
   "outputs": [
    {
     "name": "stdout",
     "output_type": "stream",
     "text": [
      "0\n",
      "3\n",
      "6\n",
      "9\n",
      "12\n"
     ]
    }
   ],
   "source": [
    "def three_division (numS):\n",
    "    for i in range (0, numS):\n",
    "        if i% 3 == 0:\n",
    "            print(i)\n",
    "        \n",
    "\n",
    "#n = 15\n",
    "b = int(input())\n",
    "# Tried to use  n = int(input()), but this would not work.\n",
    "three_division (b)\n",
    "\n"
   ]
  },
  {
   "cell_type": "markdown",
   "metadata": {},
   "source": [
    "8. Building on the previous task, copy & modify the function to return the total amount of numbers that are divisible by 3, in addition to printing each number.\n",
    "For example: with input 12, it should print:\n",
    "3\n",
    "6\n",
    "9\n",
    "And return 3.\n"
   ]
  },
  {
   "cell_type": "code",
   "execution_count": 6,
   "metadata": {},
   "outputs": [
    {
     "name": "stdout",
     "output_type": "stream",
     "text": [
      "0\n",
      "3\n",
      "6\n",
      "9\n",
      "12\n",
      "5\n"
     ]
    }
   ],
   "source": [
    "def three_count_division(modThree):\n",
    "    count = 0\n",
    "    for i in range (0, modThree):\n",
    "        if i% 3 == 0:\n",
    "            count += 1\n",
    "            print(i)\n",
    "    print(count) \n",
    "    \n",
    "                    \n",
    "\n",
    "t = int(input())\n",
    "three_count_division (t)"
   ]
  },
  {
   "cell_type": "markdown",
   "metadata": {},
   "source": [
    "9. Modify the above function to make it general -- if the function takes in integers n and k, print each positive number less than n that is divisible by k, and return the total amount of positive numbers less than n that are divisible by k.\n",
    "The above examples would be the equivalent of calling this function with n=12, k=3.\n",
    "For example: with input: n=8, k=2, example output:\n",
    "2\n",
    "4\n",
    "6\n",
    "And return 3\n"
   ]
  },
  {
   "cell_type": "code",
   "execution_count": 10,
   "metadata": {},
   "outputs": [
    {
     "name": "stdout",
     "output_type": "stream",
     "text": [
      "2\n",
      "4\n",
      "6\n",
      "3\n"
     ]
    }
   ],
   "source": [
    "def gen_division(val1, val2):\n",
    "    count = 0\n",
    "    for i in range (1, val1):\n",
    "        if i% val2 == 0:\n",
    "            count += 1\n",
    "            print(i)\n",
    "    print(count) \n",
    "    \n",
    "j = int(input())\n",
    "k = int(input())         \n",
    "gen_division (j, k)"
   ]
  }
 ],
 "metadata": {
  "kernelspec": {
   "display_name": "Python 3.10.8 64-bit",
   "language": "python",
   "name": "python3"
  },
  "language_info": {
   "codemirror_mode": {
    "name": "ipython",
    "version": 3
   },
   "file_extension": ".py",
   "mimetype": "text/x-python",
   "name": "python",
   "nbconvert_exporter": "python",
   "pygments_lexer": "ipython3",
   "version": "3.10.8"
  },
  "orig_nbformat": 4,
  "vscode": {
   "interpreter": {
    "hash": "aee8b7b246df8f9039afb4144a1f6fd8d2ca17a180786b69acc140d282b71a49"
   }
  }
 },
 "nbformat": 4,
 "nbformat_minor": 2
}
