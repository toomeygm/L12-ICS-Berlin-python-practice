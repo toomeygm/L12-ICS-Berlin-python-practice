{
 "cells": [
  {
   "cell_type": "markdown",
   "metadata": {},
   "source": [
    "1. #Warm-up: write a function called add_10 that takes in an integer, adds 10, and returns this value."
   ]
  },
  {
   "cell_type": "code",
   "execution_count": 5,
   "metadata": {},
   "outputs": [
    {
     "data": {
      "text/plain": [
       "17"
      ]
     },
     "execution_count": 5,
     "metadata": {},
     "output_type": "execute_result"
    }
   ],
   "source": [
    "def add_10(someNum):\n",
    "    return someNum + 10\n",
    "\n",
    "add_10(7)\n",
    "  "
   ]
  },
  {
   "cell_type": "markdown",
   "metadata": {},
   "source": [
    "2. Write a function called longer_string that takes in two strings and returns the longer one. If they are the same length, return the first string."
   ]
  },
  {
   "cell_type": "code",
   "execution_count": 8,
   "metadata": {},
   "outputs": [
    {
     "name": "stdout",
     "output_type": "stream",
     "text": [
      "bird\n"
     ]
    }
   ],
   "source": [
    "\n",
    "def longer_string(string1, string2):\n",
    "    if len(string1) > len(string2):\n",
    "        print(string1)\n",
    "    if len(string2) > len(string1):\n",
    "        print(string2)\n",
    "    elif len(string1) == len(string2):\n",
    "        print(string1)\n",
    "\n",
    "string1 = \"bird\"\n",
    "string2 = \"cat\"  \n",
    "\n",
    "longer_string(string1, string2)"
   ]
  },
  {
   "cell_type": "markdown",
   "metadata": {},
   "source": [
    "3. Write a function called is_odd that takes in an integer and returns True if the number is odd and False otherwise. Hint: Google what the modulo (%) operator in Python is and use it to determine if a number is odd or even."
   ]
  },
  {
   "cell_type": "code",
   "execution_count": 13,
   "metadata": {},
   "outputs": [
    {
     "data": {
      "text/plain": [
       "True"
      ]
     },
     "execution_count": 13,
     "metadata": {},
     "output_type": "execute_result"
    }
   ],
   "source": [
    "def is_odd(some_integer):\n",
    "    if some_integer % 2 == 0:\n",
    "        return False\n",
    "    else:\n",
    "        return True\n",
    "\n",
    "some_integer = 7        \n",
    "\n",
    "is_odd(some_integer)"
   ]
  },
  {
   "cell_type": "markdown",
   "metadata": {},
   "source": [
    "4. Write a function that takes in a list of integers, a min_val, and a max_val and prints the value of each element that is between min_val and max_val.\n",
    "For example: [3, 0, 10, 4, 5, 3], min_val = 2, max_val = 5; expected output:\n",
    "3\n",
    "4\n",
    "3\n"
   ]
  },
  {
   "cell_type": "code",
   "execution_count": 19,
   "metadata": {},
   "outputs": [
    {
     "name": "stdout",
     "output_type": "stream",
     "text": [
      "9\n",
      "7\n",
      "4\n",
      "5\n",
      "11\n",
      "8\n"
     ]
    }
   ],
   "source": [
    "def between_value(int_list, min_val, max_val):\n",
    "    for i in int_list:\n",
    "        if i > min_val and i < max_val:\n",
    "            print(i)\n",
    "                \n",
    "    \n",
    "int_list = [9,7,20,4,5,2,11,8,13]\n",
    "min_val = 2\n",
    "max_val = 12\n",
    "\n",
    "between_value(int_list,min_val, max_val)"
   ]
  },
  {
   "cell_type": "markdown",
   "metadata": {},
   "source": [
    "5. Write a function find_max_int that takes in a list of integers and returns the largest value in the list. Do not use the `max` function in your solution :) If the empty list ([]) is passed in, return None. (Note: `None` is a keyword in Python)"
   ]
  },
  {
   "cell_type": "code",
   "execution_count": 58,
   "metadata": {},
   "outputs": [],
   "source": [
    "def find_max_int(list):\n",
    "    \n",
    "    if list == []:\n",
    "        print(None)\n",
    "    \n",
    "    elif list.sort():\n",
    "        return list [-1]\n",
    "        \n",
    "    \n",
    "\n",
    "list = []\n",
    "find_max_int(list)\n",
    "\n",
    "list = [17, 89,45, 3, 5]\n",
    "find_max_int(list)\n",
    "\n",
    "# HAven't been able to do both tasks...only one or the other.\n",
    "   \n"
   ]
  },
  {
   "cell_type": "markdown",
   "metadata": {},
   "source": [
    "6. Similar to the above, write a function called find_longest_str that takes in a list of strings and returns the longest string in the list. If the empty list ([]) is passed in, return None.\n",
    "For example: ['a', 'asdf', ''] -> 'asdf'"
   ]
  },
  {
   "cell_type": "code",
   "execution_count": 5,
   "metadata": {},
   "outputs": [
    {
     "ename": "NameError",
     "evalue": "name 'i' is not defined",
     "output_type": "error",
     "traceback": [
      "\u001b[0;31m---------------------------------------------------------------------------\u001b[0m",
      "\u001b[0;31mNameError\u001b[0m                                 Traceback (most recent call last)",
      "Cell \u001b[0;32mIn [5], line 7\u001b[0m\n\u001b[1;32m      3\u001b[0m         \u001b[39mprint\u001b[39m (i)\n\u001b[1;32m      5\u001b[0m \u001b[39mlist\u001b[39m \u001b[39m=\u001b[39m[\u001b[39m\"\u001b[39m\u001b[39madf\u001b[39m\u001b[39m\"\u001b[39m, \u001b[39m\"\u001b[39m\u001b[39mtwit\u001b[39m\u001b[39m\"\u001b[39m, \u001b[39m\"\u001b[39m\u001b[39micequeen\u001b[39m\u001b[39m\"\u001b[39m]\n\u001b[0;32m----> 7\u001b[0m find_longest_str(\u001b[39mlist\u001b[39;49m)\n\u001b[1;32m      9\u001b[0m \u001b[39mrange\u001b[39m\n",
      "Cell \u001b[0;32mIn [5], line 2\u001b[0m, in \u001b[0;36mfind_longest_str\u001b[0;34m(list)\u001b[0m\n\u001b[1;32m      1\u001b[0m \u001b[39mdef\u001b[39;00m \u001b[39mfind_longest_str\u001b[39m(\u001b[39mlist\u001b[39m):\n\u001b[0;32m----> 2\u001b[0m     \u001b[39mif\u001b[39;00m \u001b[39mlen\u001b[39m(i) \u001b[39m>\u001b[39m count\u001b[39m.\u001b[39mlist: \u001b[39m#check for longest string in list\u001b[39;00m\n\u001b[1;32m      3\u001b[0m         \u001b[39mprint\u001b[39m (i)\n",
      "\u001b[0;31mNameError\u001b[0m: name 'i' is not defined"
     ]
    }
   ],
   "source": [
    "def find_longest_str(list):\n",
    "    if len(i) > count.list: #check for longest string in list\n",
    "        print (i)\n",
    "\n",
    "list =[\"adf\", \"twit\", \"icequeen\"]\n",
    "\n",
    "find_longest_str(list)\n",
    "\n",
    "range?\n"
   ]
  },
  {
   "cell_type": "markdown",
   "metadata": {},
   "source": [
    "7. Write a function that takes in an integer and prints all positive numbers below it that are divisible by 3.\n",
    "For example: with input 12, we should get output:\n",
    "3\n",
    "6\n",
    "9\n"
   ]
  },
  {
   "cell_type": "code",
   "execution_count": 54,
   "metadata": {},
   "outputs": [
    {
     "ename": "SyntaxError",
     "evalue": "invalid syntax (3970242796.py, line 6)",
     "output_type": "error",
     "traceback": [
      "\u001b[0;36m  Cell \u001b[0;32mIn [54], line 6\u001b[0;36m\u001b[0m\n\u001b[0;31m    three_division (int, x=)\u001b[0m\n\u001b[0m                           ^\u001b[0m\n\u001b[0;31mSyntaxError\u001b[0m\u001b[0;31m:\u001b[0m invalid syntax\n"
     ]
    }
   ],
   "source": [
    "def three_division (int, x):\n",
    "        if x == (int % 3 == 0):\n",
    "            print(x)\n",
    "        for x in int\n",
    "        \n",
    "\n",
    "int = 12\n",
    "three_division (int, x)"
   ]
  }
 ],
 "metadata": {
  "kernelspec": {
   "display_name": "Python 3.10.8 64-bit",
   "language": "python",
   "name": "python3"
  },
  "language_info": {
   "codemirror_mode": {
    "name": "ipython",
    "version": 3
   },
   "file_extension": ".py",
   "mimetype": "text/x-python",
   "name": "python",
   "nbconvert_exporter": "python",
   "pygments_lexer": "ipython3",
   "version": "3.10.8"
  },
  "orig_nbformat": 4,
  "vscode": {
   "interpreter": {
    "hash": "aee8b7b246df8f9039afb4144a1f6fd8d2ca17a180786b69acc140d282b71a49"
   }
  }
 },
 "nbformat": 4,
 "nbformat_minor": 2
}
