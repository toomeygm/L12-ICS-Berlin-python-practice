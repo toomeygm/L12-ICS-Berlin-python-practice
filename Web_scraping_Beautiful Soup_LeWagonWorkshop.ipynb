{
  "nbformat": 4,
  "nbformat_minor": 0,
  "metadata": {
    "colab": {
      "provenance": [],
      "authorship_tag": "ABX9TyOUluINJw1glxTW78gpxoHA",
      "include_colab_link": true
    },
    "kernelspec": {
      "name": "python3",
      "display_name": "Python 3"
    },
    "language_info": {
      "name": "python"
    }
  },
  "cells": [
    {
      "cell_type": "markdown",
      "metadata": {
        "id": "view-in-github",
        "colab_type": "text"
      },
      "source": [
        "<a href=\"https://colab.research.google.com/github/toomeygm/L12-ICS-Berlin-python-practice/blob/main/Web_scraping_Beautiful%20Soup_LeWagonWorkshop.ipynb\" target=\"_parent\"><img src=\"https://colab.research.google.com/assets/colab-badge.svg\" alt=\"Open In Colab\"/></a>"
      ]
    },
    {
      "cell_type": "code",
      "execution_count": 2,
      "metadata": {
        "id": "xbgPMEqJneKO"
      },
      "outputs": [],
      "source": [
        "import requests\n",
        "from bs4 import BeautifulSoup"
      ]
    },
    {
      "cell_type": "code",
      "source": [
        "URL = \"https://books.toscrape.com/\"\n",
        "response = requests.get(URL)\n",
        "html = response.content\n",
        "scraped = BeautifulSoup(html,'html.parser')\n"
      ],
      "metadata": {
        "id": "XuyBQQ0mn-kg"
      },
      "execution_count": 8,
      "outputs": []
    },
    {
      "cell_type": "code",
      "source": [
        "title_text = scraped.title.text.strip()"
      ],
      "metadata": {
        "id": "avHCXzeyvriN"
      },
      "execution_count": 12,
      "outputs": []
    },
    {
      "cell_type": "code",
      "source": [
        "scraped.h1"
      ],
      "metadata": {
        "colab": {
          "base_uri": "https://localhost:8080/"
        },
        "id": "kqZWZtbrxdY-",
        "outputId": "c5229c40-b575-4fea-b6cc-5c7e1986af7f"
      },
      "execution_count": 13,
      "outputs": [
        {
          "output_type": "execute_result",
          "data": {
            "text/plain": [
              "<h1>All products</h1>"
            ]
          },
          "metadata": {},
          "execution_count": 13
        }
      ]
    },
    {
      "cell_type": "code",
      "source": [
        "print(title_text)"
      ],
      "metadata": {
        "colab": {
          "base_uri": "https://localhost:8080/"
        },
        "id": "ZNZ5pnw1x-r0",
        "outputId": "91b570f9-1eff-4338-cad7-d2504265288a"
      },
      "execution_count": 14,
      "outputs": [
        {
          "output_type": "stream",
          "name": "stdout",
          "text": [
            "All products | Books to Scrape - Sandbox\n"
          ]
        }
      ]
    },
    {
      "cell_type": "code",
      "source": [
        "title = scraped.article.h3.a[\"title\"]\n",
        "print(title)"
      ],
      "metadata": {
        "colab": {
          "base_uri": "https://localhost:8080/"
        },
        "id": "jfsh2qApzUc1",
        "outputId": "11c98101-ab27-43ea-fa1b-02123190bad2"
      },
      "execution_count": 15,
      "outputs": [
        {
          "output_type": "stream",
          "name": "stdout",
          "text": [
            "A Light in the Attic\n"
          ]
        }
      ]
    },
    {
      "cell_type": "code",
      "source": [
        "links ="
      ],
      "metadata": {
        "id": "rnWrmRB1zpnY"
      },
      "execution_count": null,
      "outputs": []
    }
  ]
}